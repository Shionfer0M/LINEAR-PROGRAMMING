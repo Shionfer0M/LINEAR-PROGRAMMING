{
  "nbformat": 4,
  "nbformat_minor": 0,
  "metadata": {
    "colab": {
      "name": "Programación-Lineal-Chido.ipynb",
      "provenance": [],
      "collapsed_sections": [],
      "include_colab_link": true
    },
    "kernelspec": {
      "name": "python3",
      "display_name": "Python 3"
    }
  },
  "cells": [
    {
      "cell_type": "markdown",
      "metadata": {
        "id": "view-in-github",
        "colab_type": "text"
      },
      "source": [
        "<a href=\"https://colab.research.google.com/github/Shionfer0M/LINEAR-PROGRAMMING/blob/master/Programaci%C3%B3n_Lineal_Chido.ipynb\" target=\"_parent\"><img src=\"https://colab.research.google.com/assets/colab-badge.svg\" alt=\"Open In Colab\"/></a>"
      ]
    },
    {
      "cell_type": "code",
      "metadata": {
        "id": "XPr4djTOtEb9",
        "colab_type": "code",
        "outputId": "f521bae5-13c6-4538-fd3b-30d57857a2a9",
        "colab": {
          "base_uri": "https://localhost:8080/",
          "height": 121
        }
      },
      "source": [
        "!pip install pulp"
      ],
      "execution_count": 1,
      "outputs": [
        {
          "output_type": "stream",
          "text": [
            "Collecting pulp\n",
            "\u001b[?25l  Downloading https://files.pythonhosted.org/packages/41/34/757c88c320f80ce602199603afe63aed1e0bc11180b9a9fb6018fb2ce7ef/PuLP-2.1-py3-none-any.whl (40.6MB)\n",
            "\u001b[K     |████████████████████████████████| 40.6MB 100kB/s \n",
            "\u001b[?25hRequirement already satisfied: pyparsing>=2.0.1 in /usr/local/lib/python3.6/dist-packages (from pulp) (2.4.7)\n",
            "Installing collected packages: pulp\n",
            "Successfully installed pulp-2.1\n"
          ],
          "name": "stdout"
        }
      ]
    },
    {
      "cell_type": "code",
      "metadata": {
        "id": "yWpFWx9hkZ1S",
        "colab_type": "code",
        "colab": {}
      },
      "source": [
        ""
      ],
      "execution_count": 0,
      "outputs": []
    },
    {
      "cell_type": "code",
      "metadata": {
        "id": "th4LYkQ8t4Ub",
        "colab_type": "code",
        "outputId": "a2278cfb-726b-4cd7-c967-594466a5f408",
        "colab": {
          "base_uri": "https://localhost:8080/",
          "height": 34
        }
      },
      "source": [
        "!pip install numpy"
      ],
      "execution_count": 2,
      "outputs": [
        {
          "output_type": "stream",
          "text": [
            "Requirement already satisfied: numpy in /usr/local/lib/python3.6/dist-packages (1.18.4)\n"
          ],
          "name": "stdout"
        }
      ]
    },
    {
      "cell_type": "code",
      "metadata": {
        "id": "WFJzRv_9uHWH",
        "colab_type": "code",
        "outputId": "7701b0c2-e4fe-43dc-da12-a83c4d22b82e",
        "colab": {
          "base_uri": "https://localhost:8080/",
          "height": 1000
        }
      },
      "source": [
        "import numpy as np\n",
        "from pulp import *\n",
        "#Pidiendo datos para realizar el método\n",
        "num_estadosf = int(input(\"Proporciona el número de estados::\"))\n",
        "num_decisionesf = int(input(\"Proporciona el número de decisiones::\"))\n",
        "edosf = []\n",
        "desisf = []\n",
        "\n",
        "#listando estados | decision | vector de probabilidad\n",
        "\n",
        "vect_auxf = []\n",
        "matriz_prob_por_decisf= np.zeros((1,num_estadosf))\n",
        "print(\"Digita el estado, decision y vector de probabilidad correspondiente.\")\n",
        "optionf = 1\n",
        "iteracionf = 0\n",
        "\n",
        "\n",
        "while optionf  >=1 :\n",
        "\n",
        "  if iteracionf < 1: #Aqui lo utilizo para llenar mientras la matriz solo tiene un solo registro, es decir, \n",
        "  #solo hay un renglón correspondiente a un estado con una desición y este guarda dicho vector de probabilidad.\n",
        "    auxf = int(input(\"Estado.. \"))#pide estado\n",
        "    edosf.append(auxf)\n",
        "\n",
        "    aux1f = int(input(\"Desición tomada.. \"))#pide la decision del estado tomado anteriormente \n",
        "    desisf.append(aux1f)\n",
        "\n",
        "    print(\"vector de probabilidad del estado %d tomada la decisión %d\"%(edosf[iteracionf],desisf[iteracionf])) # Pide el vector correspondiente al estado y decision anteriormente solicitado \n",
        "    for i in range(0,num_estadosf):\n",
        "      auxif = float(input(\" \"))\n",
        "      matriz_prob_por_decisf[0,i] = auxif\n",
        "\n",
        "  else:\n",
        "    auxf = int(input(\"Estado.. \"))\n",
        "    edosf.append(auxf)\n",
        "    aux1f = int(input(\"Desición tomada.. \"))\n",
        "    desisf.append(aux1f)\n",
        "    print(\"vector de probabilidad del estado %d tomada la decisión %d\"%(edosf[iteracionf],desisf[iteracionf]))\n",
        "    for i in range(num_estadosf):\n",
        "      aux3f = float(input(\" \"))\n",
        "      vect_auxf.append(aux3f)\n",
        "\n",
        "    matriz_prob_por_decisf = np.vstack([matriz_prob_por_decisf, vect_auxf])\n",
        "    vect_auxf.clear()\n",
        "\n",
        "  optionf = int(input(\"Dar otra asignación?? SI= 1 | NO = 0\"))\n",
        "  iteracionf +=1"
      ],
      "execution_count": 213,
      "outputs": [
        {
          "output_type": "stream",
          "text": [
            "Proporciona el número de estados::3\n",
            "Proporciona el número de decisiones::3\n",
            "Digita el estado, decision y vector de probabilidad correspondiente.\n",
            "Estado.. 0\n",
            "Desición tomada.. 1\n",
            "vector de probabilidad del estado 0 tomada la decisión 1\n",
            " 0.4\n",
            " 0.5\n",
            " 0.1\n",
            "Dar otra asignación?? SI= 1 | NO = 01\n",
            "Estado.. 0\n",
            "Desición tomada.. 2\n",
            "vector de probabilidad del estado 0 tomada la decisión 2\n",
            " 0.7\n",
            " 0.2\n",
            " 0.1\n",
            "Dar otra asignación?? SI= 1 | NO = 01\n",
            "Estado.. 0\n",
            "Desición tomada.. 3\n",
            "vector de probabilidad del estado 0 tomada la decisión 3\n",
            " 0.2\n",
            " 0.5\n",
            " 0.3\n",
            "Dar otra asignación?? SI= 1 | NO = 01\n",
            "Estado.. 1\n",
            "Desición tomada.. 1\n",
            "vector de probabilidad del estado 1 tomada la decisión 1\n",
            " 0.1\n",
            " 0.7\n",
            " 0.2\n",
            "Dar otra asignación?? SI= 1 | NO = 01\n",
            "Estado.. 1\n",
            "Desición tomada.. 2\n",
            "vector de probabilidad del estado 1 tomada la decisión 2\n",
            " 0.3\n",
            " 0.6\n",
            " 0.1\n",
            "Dar otra asignación?? SI= 1 | NO = 01\n",
            "Estado.. 1\n",
            "Desición tomada.. 3\n",
            "vector de probabilidad del estado 1 tomada la decisión 3\n",
            " 0\n",
            " 0.7\n",
            " 0.3\n",
            "Dar otra asignación?? SI= 1 | NO = 01\n",
            "Estado.. 2\n",
            "Desición tomada.. 1\n",
            "vector de probabilidad del estado 2 tomada la decisión 1\n",
            " 0.1\n",
            " 0.2\n",
            " 0.7\n",
            "Dar otra asignación?? SI= 1 | NO = 01\n",
            "Estado.. 2\n",
            "Desición tomada.. 2\n",
            "vector de probabilidad del estado 2 tomada la decisión 2\n",
            " 0.1\n",
            " 0.7\n",
            " 0.2\n",
            "Dar otra asignación?? SI= 1 | NO = 01\n",
            "Estado.. 2\n",
            "Desición tomada.. 3\n",
            "vector de probabilidad del estado 2 tomada la decisión 3\n",
            " 0\n",
            " 0.2\n",
            " 0.8\n",
            "Dar otra asignación?? SI= 1 | NO = 00\n"
          ],
          "name": "stdout"
        }
      ]
    },
    {
      "cell_type": "code",
      "metadata": {
        "id": "lFJw8ZjFwd9H",
        "colab_type": "code",
        "outputId": "c8e8bae8-6553-4519-ec40-4757d2babf01",
        "colab": {
          "base_uri": "https://localhost:8080/",
          "height": 173
        }
      },
      "source": [
        "costosf = []\n",
        "for f in range(0,iteracionf):\n",
        "  aux_costosf = float(input(\"Costo de EDO %d  --> DEC %d ... \"%(edosf[f],desisf[f])))\n",
        "  costosf.append(aux_costosf)"
      ],
      "execution_count": 229,
      "outputs": [
        {
          "output_type": "stream",
          "text": [
            "Costo de EDO 0  --> DEC 1 ... 280\n",
            "Costo de EDO 0  --> DEC 2 ... 220\n",
            "Costo de EDO 0  --> DEC 3 ... 258\n",
            "Costo de EDO 1  --> DEC 1 ... 250\n",
            "Costo de EDO 1  --> DEC 2 ... 110\n",
            "Costo de EDO 1  --> DEC 3 ... 255\n",
            "Costo de EDO 2  --> DEC 1 ... 220\n",
            "Costo de EDO 2  --> DEC 2 ... -130\n",
            "Costo de EDO 2  --> DEC 3 ... 300\n"
          ],
          "name": "stdout"
        }
      ]
    },
    {
      "cell_type": "code",
      "metadata": {
        "id": "Z6QcbcPlOjTI",
        "colab_type": "code",
        "colab": {
          "base_uri": "https://localhost:8080/",
          "height": 34
        },
        "outputId": "dbfac68f-4a27-4c52-cb00-6d739db65f63"
      },
      "source": [
        "costosf"
      ],
      "execution_count": 230,
      "outputs": [
        {
          "output_type": "execute_result",
          "data": {
            "text/plain": [
              "[280.0, 220.0, 258.0, 250.0, 110.0, 255.0, 220.0, -130.0, 300.0]"
            ]
          },
          "metadata": {
            "tags": []
          },
          "execution_count": 230
        }
      ]
    },
    {
      "cell_type": "code",
      "metadata": {
        "id": "HjexdF-DwzZG",
        "colab_type": "code",
        "outputId": "457e6ca9-cb61-4dae-8a52-32dead6441cb",
        "colab": {
          "base_uri": "https://localhost:8080/",
          "height": 173
        }
      },
      "source": [
        "matriz_prob_por_decisf"
      ],
      "execution_count": 231,
      "outputs": [
        {
          "output_type": "execute_result",
          "data": {
            "text/plain": [
              "array([[0.4, 0.5, 0.1],\n",
              "       [0.7, 0.2, 0.1],\n",
              "       [0.2, 0.5, 0.3],\n",
              "       [0.1, 0.7, 0.2],\n",
              "       [0.3, 0.6, 0.1],\n",
              "       [0. , 0.7, 0.3],\n",
              "       [0.1, 0.2, 0.7],\n",
              "       [0.1, 0.7, 0.2],\n",
              "       [0. , 0.2, 0.8]])"
            ]
          },
          "metadata": {
            "tags": []
          },
          "execution_count": 231
        }
      ]
    },
    {
      "cell_type": "code",
      "metadata": {
        "id": "BcqqzxMgw5Dt",
        "colab_type": "code",
        "outputId": "9976da1e-743f-428e-fbf5-8ceeef12ccbf",
        "colab": {
          "base_uri": "https://localhost:8080/",
          "height": 173
        }
      },
      "source": [
        "#IMPRIMIENDO COMPILACION DE DATOS DE ESTADOS | DECISION TOMADA | VECTOR DE PROB ASOCIOADO\n",
        "for i in range(0,len(edosf)):\n",
        "  print(\"ESTADO %d   -> DECISION %d   | vector de probabilidad \"%(edosf[i],desisf[i]),matriz_prob_por_decisf[i,:])"
      ],
      "execution_count": 232,
      "outputs": [
        {
          "output_type": "stream",
          "text": [
            "ESTADO 0   -> DECISION 1   | vector de probabilidad  [0.4 0.5 0.1]\n",
            "ESTADO 0   -> DECISION 2   | vector de probabilidad  [0.7 0.2 0.1]\n",
            "ESTADO 0   -> DECISION 3   | vector de probabilidad  [0.2 0.5 0.3]\n",
            "ESTADO 1   -> DECISION 1   | vector de probabilidad  [0.1 0.7 0.2]\n",
            "ESTADO 1   -> DECISION 2   | vector de probabilidad  [0.3 0.6 0.1]\n",
            "ESTADO 1   -> DECISION 3   | vector de probabilidad  [0.  0.7 0.3]\n",
            "ESTADO 2   -> DECISION 1   | vector de probabilidad  [0.1 0.2 0.7]\n",
            "ESTADO 2   -> DECISION 2   | vector de probabilidad  [0.1 0.7 0.2]\n",
            "ESTADO 2   -> DECISION 3   | vector de probabilidad  [0.  0.2 0.8]\n"
          ],
          "name": "stdout"
        }
      ]
    },
    {
      "cell_type": "code",
      "metadata": {
        "id": "0eiSSDVNxGO9",
        "colab_type": "code",
        "outputId": "b1ab5d1d-b45f-4870-d447-c44e99974712",
        "colab": {
          "base_uri": "https://localhost:8080/",
          "height": 34
        }
      },
      "source": [
        "#ESTA PARTE YA CAMBIA A YIK LO CHIDO\n",
        "costos2 = costosf.copy()\n",
        "costosyi=[]\n",
        "for g in range(len(costos2)):\n",
        "  costos2[g] = (f\"y_{edosf[g]}{desisf[g]}\")\n",
        "  costosyi.append(costos2[g])\n",
        "    #if costos2[g] >= 0:\n",
        "print(costosyi)\n",
        "#print(costosf)"
      ],
      "execution_count": 233,
      "outputs": [
        {
          "output_type": "stream",
          "text": [
            "['y_01', 'y_02', 'y_03', 'y_11', 'y_12', 'y_13', 'y_21', 'y_22', 'y_23']\n"
          ],
          "name": "stdout"
        }
      ]
    },
    {
      "cell_type": "code",
      "metadata": {
        "id": "E1fm-yq1xkAA",
        "colab_type": "code",
        "outputId": "56946730-c1a9-4f43-e6e3-275ecf12e143",
        "colab": {
          "base_uri": "https://localhost:8080/",
          "height": 69
        }
      },
      "source": [
        "#costos_int_str=costosf.copy()\n",
        "print(costosf)\n",
        "nuevafo=[] #aquí se v a guardar la variabes y*costo como una cadena\n",
        "for pr in range(len(costos2)): #<------------------------------------------------------------- ESTO SE CAMBIA\n",
        "  paimpr=(f\"{costosf[pr]}*{costosyi[pr]}\") #hace lo mismo y*costo como\n",
        "  nuevafo.append(paimpr) #lo guarda en cadena\n",
        "sep = '+'\n",
        "#resta = '-'\n",
        "fobj = sep.join(nuevafo)\n",
        "print(\"LA FUNCIÓN OBJETIVO PARA EL PROBLEMA DE PROGRAMACIÓN LINEAL ES: \")\n",
        "print(fobj)"
      ],
      "execution_count": 234,
      "outputs": [
        {
          "output_type": "stream",
          "text": [
            "[280.0, 220.0, 258.0, 250.0, 110.0, 255.0, 220.0, -130.0, 300.0]\n",
            "LA FUNCIÓN OBJETIVO PARA EL PROBLEMA DE PROGRAMACIÓN LINEAL ES: \n",
            "280.0*y_01+220.0*y_02+258.0*y_03+250.0*y_11+110.0*y_12+255.0*y_13+220.0*y_21+-130.0*y_22+300.0*y_23\n"
          ],
          "name": "stdout"
        }
      ]
    },
    {
      "cell_type": "code",
      "metadata": {
        "id": "dUinaWN6yJvQ",
        "colab_type": "code",
        "outputId": "71ce114b-b718-49f8-8e9d-4197b2473d4f",
        "colab": {
          "base_uri": "https://localhost:8080/",
          "height": 52
        }
      },
      "source": [
        "sep='+'\n",
        "#print(costosyi) # ESTA PRIMER RESTRICCIÓN NO CAMBIA DEPENDE DE LAS VARIABLES DE LOS COSTOS\n",
        "print(\"PRIMERA RESTRICCIÓN:\")\n",
        "prestriccion = sep.join(costosyi)\n",
        "primeraresctriccion = (f\"{prestriccion}==1\")\n",
        "print(primeraresctriccion)"
      ],
      "execution_count": 235,
      "outputs": [
        {
          "output_type": "stream",
          "text": [
            "PRIMERA RESTRICCIÓN:\n",
            "y_01+y_02+y_03+y_11+y_12+y_13+y_21+y_22+y_23==1\n"
          ],
          "name": "stdout"
        }
      ]
    },
    {
      "cell_type": "code",
      "metadata": {
        "id": "G1bSfwldyVy_",
        "colab_type": "code",
        "outputId": "abd846cc-3a2b-4bd1-ef5b-f2598c0c934e",
        "colab": {
          "base_uri": "https://localhost:8080/",
          "height": 260
        }
      },
      "source": [
        "#ESTO DEBE DE ESTAR SIEMPRE AL ULTIMO ES COMO LA ULTIMA RESTRICCIÓN DONDE LAS YIK SON >= 0 PERO NO SE PONEN EN EL PROBLEMA PARA RESOLVER SOLO PARA VISUALIZACIÓN\n",
        "print(\"LAS VARIABLES DEBEN SER: \")\n",
        "sepc = ','\n",
        "ur = sepc.join(costosyi)\n",
        "urv = (f\"{ur} >= 0\")\n",
        "print(urv)\n",
        "#GENERANDO LAS DEMAS RESTRICCIÓNES SABIENDO QUE ES N-1 (N ES ESTADOS)\n",
        "primeraparteyi = dict()\n",
        "segundaparteyi = dict() \n",
        "laresjunta = dict()\n",
        "sumrjunta = dict()\n",
        "pl_lista = dict()\n",
        "print(\"LAS SIGUIENTES RESTRICCIONES CORRESPONEN A SU RESPECTIVO ESTADO - 1\")\n",
        "for p in range(0,num_estadosf-1):\n",
        "  primeraparteyi['su'+str(p)]= []\n",
        "  segundaparteyi['supsp'+str(p)]= []\n",
        "  #laresjunta['laresumando'+str(p)]\n",
        "  #sumrjunta['sumrsumando'+str(p)]\n",
        "  #pl_lista['plsumando'+str(p)]\n",
        "  for rta in range(len(costos2)): #restriva2\n",
        "    if edosf[rta] == p:\n",
        "      reccs = (f\"y{edosf[rta]}{desisf[rta]}\") #acomodar restriccions2 --> rccss\n",
        "      primeraparteyi['su'+str(p)].append(reccs) \n",
        "  #print(primeraparteyi['su'+str(p)]) #funciona\n",
        "#print(primeraparteyi['su1']) \n",
        "  for rtasg in range(len(costosf)): #restrivaseg2\n",
        "    #for rtasgres in range(0,num_estadosf-1): #rest2\n",
        "      #if edosf[rtasgres] == p:\n",
        "      rccssp2=(f\"{matriz_prob_por_decisf[rtasg,p]}*{costosyi[rtasg]}\")  #sp2 ----> rccssp2\n",
        "      segundaparteyi['supsp'+str(p)].append(rccssp2) #segundaparte2 ----> supsp(p)\n",
        "  #print(segundaparteyi['supsp'+str(p)]) #funciona\n",
        "  #print(su(p))\n",
        "  #print(supsp(p))\n",
        "  laresjunta['laresumando'+str(p)] = sep.join(primeraparteyi['su'+str(p)]) #cambiar larespr2------->lrps \n",
        "  sumrjunta['sumrsumando'+str(p)] = sep.join(segundaparteyi['supsp'+str(p)]) #cambiar \n",
        "  pl_lista['plsumando'+str(p)]=(f\"{laresjunta['laresumando'+str(p)]}-({sumrjunta['sumrsumando'+str(p)]})==0\")\n",
        "  #print(\"VAMOS A VER LAS NUEVAS RESTRICCIONES\")\n",
        "  print(pl_lista['plsumando'+str(p)])\n",
        "\n",
        "print(matriz_prob_por_decisf)"
      ],
      "execution_count": 238,
      "outputs": [
        {
          "output_type": "stream",
          "text": [
            "LAS VARIABLES DEBEN SER: \n",
            "y_01,y_02,y_03,y_11,y_12,y_13,y_21,y_22,y_23 >= 0\n",
            "LAS SIGUIENTES RESTRICCIONES CORRESPONEN A SU RESPECTIVO ESTADO - 1\n",
            "y01+y02+y03-(0.4*y_01+0.7*y_02+0.2*y_03+0.1*y_11+0.3*y_12+0.0*y_13+0.1*y_21+0.1*y_22+0.0*y_23)==0\n",
            "y11+y12+y13-(0.5*y_01+0.2*y_02+0.5*y_03+0.7*y_11+0.6*y_12+0.7*y_13+0.2*y_21+0.7*y_22+0.2*y_23)==0\n",
            "[[0.4 0.5 0.1]\n",
            " [0.7 0.2 0.1]\n",
            " [0.2 0.5 0.3]\n",
            " [0.1 0.7 0.2]\n",
            " [0.3 0.6 0.1]\n",
            " [0.  0.7 0.3]\n",
            " [0.1 0.2 0.7]\n",
            " [0.1 0.7 0.2]\n",
            " [0.  0.2 0.8]]\n"
          ],
          "name": "stdout"
        }
      ]
    },
    {
      "cell_type": "code",
      "metadata": {
        "id": "wfA0w54fy3l-",
        "colab_type": "code",
        "outputId": "d27f3e06-9039-4cbe-e857-eb2e0374204d",
        "colab": {
          "base_uri": "https://localhost:8080/",
          "height": 52
        }
      },
      "source": [
        "#ESTO DEBE DE ESTAR SIEMPRE AL ULTIMO ES COMO LA ULTIMA RESTRICCIÓN DONDE LAS YIK SON >= 0 PERO NO SE PONEN EN EL PROBLEMA PARA RESOLVER SOLO PARA VISUALIZACIÓN\n",
        "print(\"LAS VARIABLES DEBEN SER: \")\n",
        "sepc = ','\n",
        "ur = sepc.join(costosyi)\n",
        "urv = (f\"{ur} >= 0\")\n",
        "print(urv)"
      ],
      "execution_count": 239,
      "outputs": [
        {
          "output_type": "stream",
          "text": [
            "LAS VARIABLES DEBEN SER: \n",
            "y_01,y_02,y_03,y_11,y_12,y_13,y_21,y_22,y_23 >= 0\n"
          ],
          "name": "stdout"
        }
      ]
    },
    {
      "cell_type": "code",
      "metadata": {
        "id": "azfm1vEczBP_",
        "colab_type": "code",
        "outputId": "76e3dda0-aa2b-4ea4-be03-8c4a415007ae",
        "colab": {
          "base_uri": "https://localhost:8080/",
          "height": 156
        }
      },
      "source": [
        "#RECORDANDO EL PROBLEMA PARA PROGRAMACIÓN LINEAL\n",
        "print(\"RECORDANDO EL PROBLEMA\")\n",
        "print(\"FUNCIÓN OBJETIVO: \")\n",
        "print(fobj) \n",
        "print(\"SUJETO A: \")\n",
        "print(primeraresctriccion)\n",
        "for p in range(0,num_estadosf-1):\n",
        "  print(pl_lista['plsumando'+str(p)])\n",
        "print(urv)"
      ],
      "execution_count": 240,
      "outputs": [
        {
          "output_type": "stream",
          "text": [
            "RECORDANDO EL PROBLEMA\n",
            "FUNCIÓN OBJETIVO: \n",
            "280.0*y_01+220.0*y_02+258.0*y_03+250.0*y_11+110.0*y_12+255.0*y_13+220.0*y_21+-130.0*y_22+300.0*y_23\n",
            "SUJETO A: \n",
            "y_01+y_02+y_03+y_11+y_12+y_13+y_21+y_22+y_23==1\n",
            "y01+y02+y03-(0.4*y_01+0.7*y_02+0.2*y_03+0.1*y_11+0.3*y_12+0.0*y_13+0.1*y_21+0.1*y_22+0.0*y_23)==0\n",
            "y11+y12+y13-(0.5*y_01+0.2*y_02+0.5*y_03+0.7*y_11+0.6*y_12+0.7*y_13+0.2*y_21+0.7*y_22+0.2*y_23)==0\n",
            "y_01,y_02,y_03,y_11,y_12,y_13,y_21,y_22,y_23 >= 0\n"
          ],
          "name": "stdout"
        }
      ]
    },
    {
      "cell_type": "code",
      "metadata": {
        "id": "rhCuPXP4zVWy",
        "colab_type": "code",
        "outputId": "76803e96-8bd4-4de5-f4fc-7be3b74c992b",
        "colab": {
          "base_uri": "https://localhost:8080/",
          "height": 624
        }
      },
      "source": [
        "#GENERANDO EL MODELO Y RESOLVIENDO\n",
        "plineal= LpProblem(\"PROGRAMACIÓN_LINEAL\", LpMinimize)\n",
        "variablesyi = [str(edosf[i])+str(desisf[i]) for i in range(0,iteracionf)] #definiendo variables\n",
        "\n",
        "variablesenteras = LpVariable.matrix(\"y\", variablesyi, lowBound= 0 ) #otra vez trabajando cada variable, esta parte es importante para hacer operación\n",
        "operacionvariables = np.array(variablesenteras)\n",
        "\n",
        "funcionobjetivo = lpSum(operacionvariables*costosf) #suma los costos con las variables para la fnción objetivo\n",
        "\n",
        "plineal +=  funcionobjetivo #operación con función objetivo\n",
        "\n",
        "plineal += lpSum(operacionvariables) == 1 #trae la primera restricción\n",
        "#Para las demas restricciones N-1 donde N son los estados\n",
        "for p in range(0,num_estadosf-1):\n",
        "  primeraparteyi['su'+str(p)]= []\n",
        "  segundaparteyi['supsp'+str(p)]= []\n",
        "  for rta in range(len(costos2)): #<----------------------------------------------------------- CAMBIA \n",
        "    if edosf[rta] == p:\n",
        "      reccs = (operacionvariables[rta])\n",
        "      primeraparteyi['su'+str(p)].append(reccs) #para la primera parte de las yik\n",
        "  for rtasg in range(len(costos2)): #<------------------------------------------------------------- CAMBIA\n",
        "      rccssp2=(matriz_prob_por_decisf[rtasg,p]*operacionvariables[rtasg])  \n",
        "      segundaparteyi['supsp'+str(p)].append(rccssp2) #segunda parte para las yik\n",
        "  plineal += (((lpSum(primeraparteyi['su'+str(p)])))-((lpSum((segundaparteyi['supsp'+str(p)]))))) == 0\n",
        "plineal\n",
        "\n",
        "print(plineal) #imprime el modelado y ya resolviendo la parte de las restricciones de la primera y segunda parte\n",
        "#resolviendo\n",
        "plineal.solve(PULP_CBC_CMD())\n",
        "status =  LpStatus[plineal.status]\n",
        "print(status)\n",
        "\n",
        "#imprimiendo resultados\n",
        "print(\"EL COSTO ES:\", plineal.objective.value())\n",
        "# Decision Variables\n",
        "print(\"EL VALOR PARA CADA VARIABLE ES:\")\n",
        "for va in plineal.variables():\n",
        "    try:\n",
        "        print(va.name,\"=\", va.value())\n",
        "    except:\n",
        "        print(\" \")"
      ],
      "execution_count": 241,
      "outputs": [
        {
          "output_type": "stream",
          "text": [
            "PROGRAMACIÓN_LINEAL:\n",
            "MINIMIZE\n",
            "280.0*y_01 + 220.0*y_02 + 258.0*y_03 + 250.0*y_11 + 110.0*y_12 + 255.0*y_13 + 220.0*y_21 + -130.0*y_22 + 300.0*y_23 + 0.0\n",
            "SUBJECT TO\n",
            "_C1: y_01 + y_02 + y_03 + y_11 + y_12 + y_13 + y_21 + y_22 + y_23 = 1\n",
            "\n",
            "_C2: 0.6 y_01 + 0.3 y_02 + 0.8 y_03 - 0.1 y_11 - 0.3 y_12 - 0.1 y_21\n",
            " - 0.1 y_22 = 0\n",
            "\n",
            "_C3: - 0.5 y_01 - 0.2 y_02 - 0.5 y_03 + 0.3 y_11 + 0.4 y_12 + 0.3 y_13\n",
            " - 0.2 y_21 - 0.7 y_22 - 0.2 y_23 = 0\n",
            "\n",
            "VARIABLES\n",
            "y_01 Continuous\n",
            "y_02 Continuous\n",
            "y_03 Continuous\n",
            "y_11 Continuous\n",
            "y_12 Continuous\n",
            "y_13 Continuous\n",
            "y_21 Continuous\n",
            "y_22 Continuous\n",
            "y_23 Continuous\n",
            "\n",
            "Optimal\n",
            "EL COSTO ES: 106.31068099999999\n",
            "EL VALOR PARA CADA VARIABLE ES:\n",
            "y_01 = 0.0\n",
            "y_02 = 0.0\n",
            "y_03 = 0.24271845\n",
            "y_11 = 0.0\n",
            "y_12 = 0.59223301\n",
            "y_13 = 0.0\n",
            "y_21 = 0.0\n",
            "y_22 = 0.16504854\n",
            "y_23 = 0.0\n"
          ],
          "name": "stdout"
        }
      ]
    },
    {
      "cell_type": "code",
      "metadata": {
        "id": "oVbdlDym-AEV",
        "colab_type": "code",
        "outputId": "8e9a5887-abf6-4526-c296-c235907f06ca",
        "colab": {
          "base_uri": "https://localhost:8080/",
          "height": 52
        }
      },
      "source": [
        "#EN LO ANTERIOR YA SE VE QUE POLÍTICA TOMAR DONDE HAY VALOR != 0 ES LA DECICIÓN A TOMAR y_ik k---> es la decisión a tomar \n",
        "#Ejemplo: Tiene valor la y_01, y_11,y_22,y_33 entonces la política es (1,1,2,3)\n",
        "#seppoliticas= '\\n'\n",
        "yipol=[] \n",
        "for vp in plineal.variables():\n",
        "    try:\n",
        "      if(vp.value()!=0):\n",
        "        yiop = (vp.name)\n",
        "        yipol.append(yiop) #se guarda las variables de solución que nos interesa en una lista\n",
        "    except:\n",
        "        print(\" \")\n",
        "#print(yipol)\n",
        "\n",
        "cadenapolitica = \"\".join(yipol) #Convierte la lista en cadena\n",
        "#print(cadenapolitica)\n",
        "\n",
        "#rangocadena=len(cadenapolitica) #Posiblemente se ocupe es el tamaño de la cadena\n",
        "#print(rangocadena)\n",
        "\n",
        "print(\"ENTONCES LA POLÍTICA OPTIMA ES: \")\n",
        "politicaoptimapl=[]\n",
        "contador1=3 #El contador empieza desde la posición 3 donde esta la primera K osea la primer decisión\n",
        "for vd11 in range(len(yipol)):\n",
        "  psalida = cadenapolitica[contador1]\n",
        "  politicaoptimapl.append(psalida)\n",
        "  #print(psalida)\n",
        "  contador1 = contador1+4\n",
        "print(politicaoptimapl)"
      ],
      "execution_count": 242,
      "outputs": [
        {
          "output_type": "stream",
          "text": [
            "ENTONCES LA POLÍTICA OPTIMA ES: \n",
            "['3', '2', '2']\n"
          ],
          "name": "stdout"
        }
      ]
    },
    {
      "cell_type": "code",
      "metadata": {
        "id": "mjZheXru_WUn",
        "colab_type": "code",
        "outputId": "dfc3ebb1-19a1-48de-fc23-0d3ae9ffb244",
        "colab": {
          "base_uri": "https://localhost:8080/",
          "height": 728
        }
      },
      "source": [
        "#MENÚ SI QUIERE MAXIMIZAR O MINIMIZAR\n",
        "print(\"POR FAVOR SELECCIONE UNA OPTCIÓN\")\n",
        "print(\"1 .- MINIMIZAR\")\n",
        "print(\"2 .- MAXIMIZAR\")\n",
        "opcionpl=int(input(\"LA OPCIÓN...: \"))\n",
        "if opcionpl is 1:\n",
        "  \n",
        "  plineal= LpProblem(\"PROGRAMACIÓN_LINEAL\", LpMinimize)\n",
        "  variablesyi = [str(edosf[i])+str(desisf[i]) for i in range(0,iteracionf)] #definiendo variables\n",
        "\n",
        "  variablesenteras = LpVariable.matrix(\"y\", variablesyi, lowBound= 0 ) #otra vez trabajando cada variable, esta parte es importante para hacer operación\n",
        "  operacionvariables = np.array(variablesenteras)\n",
        "\n",
        "  funcionobjetivo = lpSum(operacionvariables*costosf) #suma los costos con las variables para la fnción objetivo\n",
        "\n",
        "  plineal +=  funcionobjetivo #operación con función objetivo\n",
        "\n",
        "  plineal += lpSum(operacionvariables) == 1 #trae la primera restricción\n",
        "  #Para las demas restricciones N-1 donde N son los estados\n",
        "  for p in range(0,num_estadosf-1):\n",
        "    primeraparteyi['su'+str(p)]= []\n",
        "    segundaparteyi['supsp'+str(p)]= []\n",
        "    for rta in range(len(costos2)): \n",
        "      if edosf[rta] == p:\n",
        "        reccs = (operacionvariables[rta])\n",
        "        primeraparteyi['su'+str(p)].append(reccs) #para la primera parte de las yik\n",
        "    for rtasg in range(len(costos2)): \n",
        "        rccssp2=(matriz_prob_por_decisf[rtasg,p]*operacionvariables[rtasg])  \n",
        "        segundaparteyi['supsp'+str(p)].append(rccssp2) #segunda parte para las yik\n",
        "    plineal += (((lpSum(primeraparteyi['su'+str(p)])))-((lpSum((segundaparteyi['supsp'+str(p)]))))) == 0\n",
        "  plineal\n",
        "\n",
        "  print(plineal) #imprime el modelado y ya resolviendo la parte de las restricciones de la primera y segunda parte\n",
        "  #resolviendo\n",
        "  plineal.solve(PULP_CBC_CMD())\n",
        "  status =  LpStatus[plineal.status]\n",
        "  print(status)\n",
        "\n",
        "  #imprimiendo resultados\n",
        "  print(\"EL COSTO ES:\", plineal.objective.value())\n",
        "  # Decision Variables\n",
        "  print(\"EL VALOR PARA CADA VARIABLE ES:\")\n",
        "  for va in plineal.variables():\n",
        "     try:\n",
        "          print(va.name,\"=\", va.value())\n",
        "     except:\n",
        "          print(\" \")\n",
        "  #EN LO ANTERIOR YA SE VE QUE POLÍTICA TOMAR DONDE HAY VALOR != 0 ES LA DECICIÓN A TOMAR y_ik k---> es la decisión a tomar \n",
        "  #Ejemplo: Tiene valor la y_01, y_11,y_22,y_33 entonces la política es (1,1,2,3)\n",
        "  #seppoliticas= '\\n'\n",
        "  yipol=[] \n",
        "  for vp in plineal.variables():\n",
        "      try:\n",
        "        if(vp.value()!=0):\n",
        "          yiop = (vp.name)\n",
        "          yipol.append(yiop) #se guarda las variables de solución que nos interesa en una lista\n",
        "      except:\n",
        "          print(\" \")\n",
        "  #print(yipol)\n",
        "\n",
        "  cadenapolitica = \"\".join(yipol) #Convierte la lista en cadena\n",
        "  #print(cadenapolitica)\n",
        "\n",
        "  #rangocadena=len(cadenapolitica) #Posiblemente se ocupe es el tamaño de la cadena\n",
        "  #print(rangocadena)\n",
        "\n",
        "  print(\"ENTONCES LA POLÍTICA OPTIMA ES: \")\n",
        "  politicaoptimapl=[]\n",
        "  contador1=3 #El contador empieza desde la posición 3 donde esta la primera K osea la primer decisión\n",
        "  for vd11 in range(len(yipol)):\n",
        "   psalida = cadenapolitica[contador1]\n",
        "   politicaoptimapl.append(psalida)\n",
        "   #print(psalida)\n",
        "   contador1 = contador1+4\n",
        "  print(politicaoptimapl)\n",
        "\n",
        "elif opcionpl is 2:\n",
        "  plineal= LpProblem(\"PROGRAMACIÓN_LINEAL\", LpMaximize)\n",
        "  variablesyi = [str(edosf[i])+str(desisf[i]) for i in range(0,iteracionf)] #definiendo variables\n",
        "\n",
        "  variablesenteras = LpVariable.matrix(\"y\", variablesyi, lowBound= 0 ) #otra vez trabajando cada variable, esta parte es importante para hacer operación\n",
        "  operacionvariables = np.array(variablesenteras)\n",
        "\n",
        "  funcionobjetivo = lpSum(operacionvariables*costosf) #suma los costos con las variables para la fnción objetivo\n",
        "\n",
        "  plineal +=  funcionobjetivo #operación con función objetivo\n",
        "\n",
        "  plineal += lpSum(operacionvariables) == 1 #trae la primera restricción\n",
        "  #Para las demas restricciones N-1 donde N son los estados\n",
        "  for p in range(0,num_estadosf-1):\n",
        "    primeraparteyi['su'+str(p)]= []\n",
        "    segundaparteyi['supsp'+str(p)]= []\n",
        "    for rta in range(len(costos2)): \n",
        "      if edosf[rta] == p:\n",
        "        reccs = (operacionvariables[rta])\n",
        "        primeraparteyi['su'+str(p)].append(reccs) #para la primera parte de las yik\n",
        "    for rtasg in range(len(costos2)): \n",
        "        rccssp2=(matriz_prob_por_decisf[rtasg,p]*operacionvariables[rtasg])  \n",
        "        segundaparteyi['supsp'+str(p)].append(rccssp2) #segunda parte para las yik\n",
        "    plineal += (((lpSum(primeraparteyi['su'+str(p)])))-((lpSum((segundaparteyi['supsp'+str(p)]))))) == 0\n",
        "  plineal\n",
        "\n",
        "  print(plineal) #imprime el modelado y ya resolviendo la parte de las restricciones de la primera y segunda parte\n",
        "  #resolviendo\n",
        "  plineal.solve(PULP_CBC_CMD())\n",
        "  status =  LpStatus[plineal.status]\n",
        "  print(status)\n",
        "\n",
        "  #imprimiendo resultados\n",
        "  print(\"EL COSTO ES:\", plineal.objective.value())\n",
        "  # Decision Variables\n",
        "  print(\"EL VALOR PARA CADA VARIABLE ES:\")\n",
        "  for va in plineal.variables():\n",
        "     try:\n",
        "          print(va.name,\"=\", va.value())\n",
        "     except:\n",
        "          print(\" \")\n",
        "  #EN LO ANTERIOR YA SE VE QUE POLÍTICA TOMAR DONDE HAY VALOR != 0 ES LA DECICIÓN A TOMAR y_ik k---> es la decisión a tomar \n",
        "  #Ejemplo: Tiene valor la y_01, y_11,y_22,y_33 entonces la política es (1,1,2,3)\n",
        "  #seppoliticas= '\\n'\n",
        "  yipol=[] \n",
        "  for vp in plineal.variables():\n",
        "      try:\n",
        "        if(vp.value()!=0):\n",
        "          yiop = (vp.name)\n",
        "          yipol.append(yiop) #se guarda las variables de solución que nos interesa en una lista\n",
        "      except:\n",
        "          print(\" \")\n",
        "  #print(yipol)\n",
        "\n",
        "  cadenapolitica = \"\".join(yipol) #Convierte la lista en cadena\n",
        "  #print(cadenapolitica)\n",
        "\n",
        "  #rangocadena=len(cadenapolitica) #Posiblemente se ocupe es el tamaño de la cadena\n",
        "  #print(rangocadena)\n",
        "\n",
        "  print(\"ENTONCES LA POLÍTICA OPTIMA ES: \")\n",
        "  politicaoptimapl=[]\n",
        "  contador1=3 #El contador empieza desde la posición 3 donde esta la primera K osea la primer decisión\n",
        "  for vd11 in range(len(yipol)):\n",
        "   psalida = cadenapolitica[contador1]\n",
        "   politicaoptimapl.append(psalida)\n",
        "   #print(psalida)\n",
        "   contador1 = contador1+4\n",
        "  print(politicaoptimapl)\n",
        "\n",
        "else:\n",
        "  print(\"NO ESTA EN LAS OPCIONES\")"
      ],
      "execution_count": 247,
      "outputs": [
        {
          "output_type": "stream",
          "text": [
            "POR FAVOR SELECCIONE UNA OPTCIÓN\n",
            "1 .- MINIMIZAR\n",
            "2 .- MAXIMIZAR\n",
            "LA OPCIÓN...: 2\n",
            "PROGRAMACIÓN_LINEAL:\n",
            "MAXIMIZE\n",
            "280.0*y_01 + 220.0*y_02 + 258.0*y_03 + 250.0*y_11 + 110.0*y_12 + 255.0*y_13 + 220.0*y_21 + -130.0*y_22 + 300.0*y_23 + 0.0\n",
            "SUBJECT TO\n",
            "_C1: y_01 + y_02 + y_03 + y_11 + y_12 + y_13 + y_21 + y_22 + y_23 = 1\n",
            "\n",
            "_C2: 0.6 y_01 + 0.3 y_02 + 0.8 y_03 - 0.1 y_11 - 0.3 y_12 - 0.1 y_21\n",
            " - 0.1 y_22 = 0\n",
            "\n",
            "_C3: - 0.5 y_01 - 0.2 y_02 - 0.5 y_03 + 0.3 y_11 + 0.4 y_12 + 0.3 y_13\n",
            " - 0.2 y_21 - 0.7 y_22 - 0.2 y_23 = 0\n",
            "\n",
            "VARIABLES\n",
            "y_01 Continuous\n",
            "y_02 Continuous\n",
            "y_03 Continuous\n",
            "y_11 Continuous\n",
            "y_12 Continuous\n",
            "y_13 Continuous\n",
            "y_21 Continuous\n",
            "y_22 Continuous\n",
            "y_23 Continuous\n",
            "\n",
            "Optimal\n",
            "EL COSTO ES: 282.00000000021333\n",
            "EL VALOR PARA CADA VARIABLE ES:\n",
            "y_01 = 0.0\n",
            "y_02 = 0.0\n",
            "y_03 = 0.0\n",
            "y_11 = 1e-12\n",
            "y_12 = -3.3333333e-13\n",
            "y_13 = 0.4\n",
            "y_21 = 0.0\n",
            "y_22 = 0.0\n",
            "y_23 = 0.6\n",
            "ENTONCES LA POLÍTICA OPTIMA ES: \n",
            "['1', '2', '3', '3']\n"
          ],
          "name": "stdout"
        }
      ]
    }
  ]
}